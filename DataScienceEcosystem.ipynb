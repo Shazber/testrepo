{
 "cells": [
  {
   "cell_type": "markdown",
   "id": "2f3d9495-0405-4dc8-8348-25db7b0ddb84",
   "metadata": {},
   "source": [
    "Exercise 2: Create markdown cell with title of the notebook\n",
    "\n",
    "Create a markdown cell with the title Data Science Tools and Ecosystem using H1 style heading.\n",
    "Take a screenshot of the markdown cell and name it as 2-title.png (Images can be saved with either the .jpg or .png extension.)\n",
    "\n"
   ]
  },
  {
   "cell_type": "markdown",
   "id": "ff6d9ecf-c1b3-4b97-be1e-17bd0a5e8126",
   "metadata": {},
   "source": [
    "# Data Science Tools and Ecosystem"
   ]
  },
  {
   "cell_type": "code",
   "execution_count": null,
   "id": "3f3b6f7a-33e1-4008-a846-753391a99351",
   "metadata": {},
   "outputs": [],
   "source": []
  },
  {
   "cell_type": "markdown",
   "id": "742401ce-9e84-49ed-a8bf-0036f3b345d0",
   "metadata": {},
   "source": [
    "Exercise 3 - Create a markdown cell for an introduction\n",
    "\n",
    "Write an introductory sentence about the notebook such as the follows:\n",
    "\n",
    "In this notebook, Data Science Tools and Ecosystem are summarized.\n",
    "Take a screenshot of the markdown cell and name it as 3-intro.png (Images can be saved with either the .jpg or .png extension.)"
   ]
  },
  {
   "cell_type": "markdown",
   "id": "9a7e98d1-b81a-4a2a-a22f-2f825ce48600",
   "metadata": {},
   "source": [
    "In this notebook,Data Science Tools and Ecosystem Summarised."
   ]
  },
  {
   "cell_type": "markdown",
   "id": "141b985f-1ee9-4577-bc03-7f0a7450ad8f",
   "metadata": {},
   "source": [
    "Exercise 4 - Create a markdown cell to list data science languages\n",
    "\n",
    "Start the cell with an overview line such as:\n",
    "\n",
    "Some of the popular languages that Data Scientists use are:\n",
    "Then create an ordered list (i.e. numbered) listing 3 (or more) commonly used languages for data science.\n",
    "Take a screenshot of the markdown cell and name it as 4-dslanguages.png (Images can be saved with either the .jpg or .png extension.)"
   ]
  },
  {
   "cell_type": "markdown",
   "id": "76efeb81-dc43-4331-a974-efd9c5589fbe",
   "metadata": {},
   "source": [
    "Some od the popular languages that data Scientist use are:\n",
    "\n",
    "1. R\n",
    "2. Python\n",
    "3. C\n",
    "4. Javascript\n",
    "5. C++"
   ]
  },
  {
   "cell_type": "markdown",
   "id": "0eded13c-bcfd-4c90-93ae-c52c1c74eedf",
   "metadata": {},
   "source": [
    "Exercise 5 - Create a markdown cell to list data science libraries\n",
    "\n",
    "Add an overview line to the cell like:\n",
    "\n",
    "Some of the commonly used libraries used by Data Scientists include:\n",
    "Below this line add an ordered list listing 3 (or more) commonly used libraries in data science.\n",
    "Take a screenshot of the markdown cell and name it as 5-dslibraries.png (Images can be saved with either the .jpg or .png extension.)"
   ]
  },
  {
   "cell_type": "markdown",
   "id": "1ee7a47b-6d97-4623-ad2a-c3314e62d62b",
   "metadata": {},
   "source": [
    "Some of the commonly used libraries used by Data Scientists include:\n",
    "\n",
    "1. Pandas\n",
    "3. Plotly\n",
    "3. Numpy"
   ]
  },
  {
   "cell_type": "markdown",
   "id": "ff564840-cec2-49ed-b112-84730287e578",
   "metadata": {},
   "source": [
    "\n",
    "Exercise 6 - Create a markdown cell with a table of Data Science tools\n",
    "\n",
    "Create a single column table in this cell with the first row containing the header Data Science Tools. The subsequent three rows in the table should indicate three development environment open source tools used in data science."
   ]
  },
  {
   "cell_type": "markdown",
   "id": "a6608f51-9c71-4bec-af4e-631548b68a13",
   "metadata": {},
   "source": [
    "| Data Science Tools | \n",
    "| -------------|\n",
    "| Rstudio |\n",
    "| Jupyterlab |\n",
    "| Julia|"
   ]
  },
  {
   "cell_type": "markdown",
   "id": "f33d6b62-8496-4e61-a53c-1d2f7e06b5e0",
   "metadata": {},
   "source": [
    "Exercise 7 - Create a markdown cell introducing arithmetic expression examples\n",
    "\n",
    "Add a line in this cell with H3 style heading with text like:\n",
    "\n",
    "Below are a few examples of evaluating arithmetic expressions in Python.\n",
    "Take a screenshot of the markdown cell and name it as 7-introarithmetic.png (Images can be saved with either the .jpg or .png extension.)"
   ]
  },
  {
   "cell_type": "markdown",
   "id": "e93419aa-2a7c-4489-a918-db411c63b3c4",
   "metadata": {},
   "source": [
    "### Below are a few examples of evaluating arithmetic expressions in Python."
   ]
  },
  {
   "cell_type": "markdown",
   "id": "99acf677-c784-4dc5-9d01-d01a8c52fa6b",
   "metadata": {},
   "source": [
    "Exercise 8 - Create a code cell to multiply and add numbers\n",
    "\n",
    "In this code cell evaluate the expression (3*4)+5.\n",
    "Insert a comment line before the expression to explain the operation e.g.  This a simple arithmetic expression to mutiply then add integers.\n",
    "Then execute the cell to ensure the expression returns the expected output of 17.\n",
    "Take a screenshot of the code cell with output and name it as 8-multiplyandaddintegers.png (Images can be saved with either the .jpg or .png extension.)"
   ]
  },
  {
   "cell_type": "code",
   "execution_count": 1,
   "id": "f9500c89-da60-4e44-8b51-ab3a122a8f21",
   "metadata": {},
   "outputs": [
    {
     "data": {
      "text/plain": [
       "17"
      ]
     },
     "execution_count": 1,
     "metadata": {},
     "output_type": "execute_result"
    }
   ],
   "source": [
    "# This a simple arithmetic expression to mutiply then add integers.\n",
    "(3*4) + 5"
   ]
  },
  {
   "cell_type": "markdown",
   "id": "6e55f0e7-1d9a-4add-9d0e-43b2c580b3ad",
   "metadata": {},
   "source": [
    "Exercise 9 - Create a code cell to convert minutes to hours\n",
    "\n",
    "In this code cell write an expression that converts 200 minutes into hours.\n",
    "Insert a comment line before the expression to explain the operation e.g.  This will convert 200 minutes to hours by diving by 60.\n",
    "Run the cell to evaluate the expression.\n",
    "Take a screenshot of the code cell with output and name it as 9-hourstominutes.png (Images can be saved with either the .jpg or .png extension.)"
   ]
  },
  {
   "cell_type": "code",
   "execution_count": 2,
   "id": "3b4be968-c586-4e4c-8e34-9483cdc6560f",
   "metadata": {},
   "outputs": [
    {
     "data": {
      "text/plain": [
       "3.3333333333333335"
      ]
     },
     "execution_count": 2,
     "metadata": {},
     "output_type": "execute_result"
    }
   ],
   "source": [
    "# This will convert 200 minutes to hours by diving by 60\n",
    "200/60"
   ]
  },
  {
   "cell_type": "markdown",
   "id": "234cc4d2-839b-4a4e-9d0f-4404cc93df31",
   "metadata": {},
   "source": [
    "Exercise 10 - Insert a markdown cell to list Objectives\n",
    "\n",
    "Below the introduction cell created in Exercise 3, insert a new markdown cell to list the objectives that this notebook covered (i.e. some of the key takeaways from the course). In this new cell start with an introductory line titled: Objectives: in bold font. Then using an unordered list (bullets) indicate 3 to 5 items covered in this notebook, such as List popular languages for Data Science.\n",
    "Take a screenshot of the markdown cell and name it as 10-objectives.png (Images can be saved with either the .jpg or .png extension.)\n"
   ]
  },
  {
   "cell_type": "markdown",
   "id": "52b57059-851a-46bd-9580-a9cab6edca65",
   "metadata": {},
   "source": [
    "### Learning Data Science\n",
    "**Data science Coursera**\n",
    "\n",
    "Languages for DS :\n",
    "* R\n",
    "* C++\n",
    "* Pythoon\n",
    "\n",
    "Tools for DS :\n",
    "1. ANACONDA\n",
    "2. VisualCode\n",
    "3. GIT and Github\n",
    "\n",
    "## Operations :\n",
    "1. + \n",
    "2. -\n",
    "3. *\n",
    "4. /\n",
    "5. %\n",
    "6. ()"
   ]
  },
  {
   "cell_type": "markdown",
   "id": "920f6940-95a9-4f01-9e96-6174f085345b",
   "metadata": {},
   "source": [
    "Exercise 11 - Create a markdown cell to indicate the Author's name\n",
    "\n",
    "In this markdown cell markdown cell include the following text Author in H2 style heading. Include your name as regular text below the word Author.\n",
    "Take a screenshot of the markdown cell and name it as 11-authordetails.png (Images can be saved with either the .jpg or .png extension.)\n",
    "\n"
   ]
  },
  {
   "cell_type": "markdown",
   "id": "291c8397-074d-4c7a-8c0e-194d73deb157",
   "metadata": {},
   "source": [
    "## Author \n",
    "Sharon Bernardino"
   ]
  },
  {
   "cell_type": "code",
   "execution_count": null,
   "id": "a559cf1b-0cc8-4341-ae73-0bbdeef9ba61",
   "metadata": {},
   "outputs": [],
   "source": []
  }
 ],
 "metadata": {
  "kernelspec": {
   "display_name": "Python 3 (ipykernel)",
   "language": "python",
   "name": "python3"
  },
  "language_info": {
   "codemirror_mode": {
    "name": "ipython",
    "version": 3
   },
   "file_extension": ".py",
   "mimetype": "text/x-python",
   "name": "python",
   "nbconvert_exporter": "python",
   "pygments_lexer": "ipython3",
   "version": "3.9.12"
  }
 },
 "nbformat": 4,
 "nbformat_minor": 5
}
